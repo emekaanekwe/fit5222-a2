{
 "cells": [
  {
   "cell_type": "markdown",
   "id": "812b2f97",
   "metadata": {},
   "source": [
    "## Table of Contents\n",
    "1. [Overview](#overview)\n",
    "2. [Environment Setup](#environment-setup)\n",
    "3. [Game Rules and Mechanics](#game-rules-and-mechanics)\n",
    "4. [Assignment Architecture](#assignment-architecture)\n",
    "5. [Step-by-Step Implementation Guide](#step-by-step-implementation-guide)\n",
    "6. [PDDL Planning Explained](#pddl-planning-explained)\n",
    "7. [Q-Learning and Low-Level Planning](#q-learning-and-low-level-planning)\n",
    "8. [Submission Requirements](#submission-requirements)\n",
    "9. [Marking Rubric Breakdown](#marking-rubric-breakdown)"
   ]
  },
  {
   "cell_type": "markdown",
   "id": "31c00a08",
   "metadata": {},
   "source": [
    "## Overview"
   ]
  },
  {
   "cell_type": "markdown",
   "id": "193eff7c",
   "metadata": {},
   "source": [
    "I am implementing an AI controller for a multi agent Pacman 2-team competitive game. I have two agents for my team that share one half of the game screen, while the opposing team shares the other half. One of the halves is red while the other is blue, in no particular order. The win condition is to eat food from the enemy side. The objective is to maximize the amount of food eaten by my agents.\n",
    "\n",
    "The constraints are that each agent (four total) collects food on the enemy side and stores it. The food is dropped off only if the agent is able to return back to its own side. Both teams are susceptible to being \"attacked\" when it collides with an enemy agent, resulting in the atacked agent dropping any food it collected before the state transition to its own side.\n",
    "\n",
    "The agent are also able to defend (the inverse of attack), by preventing enemy agents from eating food. There can be more than one attack or defend states acrosss the grid ??simultaneously??."
   ]
  },
  {
   "cell_type": "markdown",
   "id": "69ca216e",
   "metadata": {},
   "source": [
    "**High-Level Planning\n",
    "\n",
    "Using PDDL AI planner to define the problem and attempt a solution.\n",
    "\n",
    "**Low-Level Planning\n",
    "\n",
    "Using Heuristic Search and/or Q-Learning that governs how the agents will go about implementing the High-Level Plan"
   ]
  },
  {
   "cell_type": "markdown",
   "id": "ef6126b5",
   "metadata": {},
   "source": []
  }
 ],
 "metadata": {
  "language_info": {
   "name": "python"
  }
 },
 "nbformat": 4,
 "nbformat_minor": 5
}
